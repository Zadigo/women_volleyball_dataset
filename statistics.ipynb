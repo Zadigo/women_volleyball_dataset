{
 "cells": [
  {
   "cell_type": "code",
   "execution_count": 5,
   "source": [
    "from women_volleyball_dataset import solidified_dataframes"
   ],
   "outputs": [],
   "metadata": {}
  },
  {
   "cell_type": "code",
   "execution_count": 6,
   "source": [
    "dfs = solidified_dataframes()"
   ],
   "outputs": [],
   "metadata": {}
  },
  {
   "cell_type": "code",
   "execution_count": 7,
   "source": [
    "dfs.groupby('position')['position'].count()\r\n"
   ],
   "outputs": [
    {
     "output_type": "execute_result",
     "data": {
      "text/plain": [
       "position\n",
       "Libero             222\n",
       "Middle blocker     473\n",
       "None              1220\n",
       "Opposite           121\n",
       "Outside hitter     538\n",
       "Setter             284\n",
       "Universal           43\n",
       "Name: position, dtype: int64"
      ]
     },
     "metadata": {},
     "execution_count": 7
    }
   ],
   "metadata": {}
  },
  {
   "cell_type": "code",
   "execution_count": 8,
   "source": [
    "dfs[dfs['short_position'] == 'S']['spike'].describe()\r\n",
    "# dfs[dfs['height'] == 0][['competition_name', 'competition_year', 'nationality', 'name']]\r\n"
   ],
   "outputs": [
    {
     "output_type": "execute_result",
     "data": {
      "text/plain": [
       "count    221.000000\n",
       "mean     292.411765\n",
       "std       22.846477\n",
       "min        0.000000\n",
       "25%      290.000000\n",
       "50%      295.000000\n",
       "75%      300.000000\n",
       "max      319.000000\n",
       "Name: spike, dtype: float64"
      ]
     },
     "metadata": {},
     "execution_count": 8
    }
   ],
   "metadata": {}
  }
 ],
 "metadata": {
  "orig_nbformat": 4,
  "language_info": {
   "name": "python",
   "version": "3.9.6",
   "mimetype": "text/x-python",
   "codemirror_mode": {
    "name": "ipython",
    "version": 3
   },
   "pygments_lexer": "ipython3",
   "nbconvert_exporter": "python",
   "file_extension": ".py"
  },
  "kernelspec": {
   "name": "python3",
   "display_name": "Python 3.9.6 64-bit"
  },
  "interpreter": {
   "hash": "067cb8d266241ed2d5a7605d38a6c52756d68e549b16125f60af993db4e342af"
  }
 },
 "nbformat": 4,
 "nbformat_minor": 2
}