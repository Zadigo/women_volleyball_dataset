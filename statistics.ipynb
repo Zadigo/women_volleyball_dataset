{
 "cells": [
  {
   "cell_type": "code",
   "execution_count": 53,
   "source": [
    "from women_volleyball_dataset import solidified_dataframes"
   ],
   "outputs": [],
   "metadata": {}
  },
  {
   "cell_type": "code",
   "execution_count": 54,
   "source": [
    "dfs = solidified_dataframes()"
   ],
   "outputs": [],
   "metadata": {}
  },
  {
   "cell_type": "code",
   "execution_count": null,
   "source": [
    "dfs.groupby('position')['position'].count()\r\n"
   ],
   "outputs": [
    {
     "output_type": "execute_result",
     "data": {
      "text/plain": [
       "position\n",
       "Libero             222\n",
       "Middle blocker     473\n",
       "None              1220\n",
       "Opposite           121\n",
       "Outside hitter     538\n",
       "Setter             284\n",
       "Universal           43\n",
       "Name: position, dtype: int64"
      ]
     },
     "metadata": {},
     "execution_count": 51
    }
   ],
   "metadata": {}
  },
  {
   "cell_type": "code",
   "execution_count": null,
   "source": [
    "dfs[dfs['short_position'] == 'S']['height'].describe()\r\n",
    "# dfs[dfs['height'] == 0][['competition_name', 'competition_year', 'nationality', 'name']]\r\n"
   ],
   "outputs": [
    {
     "output_type": "execute_result",
     "data": {
      "text/plain": [
       "        competition_name  competition_year nationality              name\n",
       "61   World Championships            2013.0         CZE  Anna Pospisilova\n",
       "133  World Championships            2013.0         NIG     Mercy Promise"
      ],
      "text/html": [
       "<div>\n",
       "<style scoped>\n",
       "    .dataframe tbody tr th:only-of-type {\n",
       "        vertical-align: middle;\n",
       "    }\n",
       "\n",
       "    .dataframe tbody tr th {\n",
       "        vertical-align: top;\n",
       "    }\n",
       "\n",
       "    .dataframe thead th {\n",
       "        text-align: right;\n",
       "    }\n",
       "</style>\n",
       "<table border=\"1\" class=\"dataframe\">\n",
       "  <thead>\n",
       "    <tr style=\"text-align: right;\">\n",
       "      <th></th>\n",
       "      <th>competition_name</th>\n",
       "      <th>competition_year</th>\n",
       "      <th>nationality</th>\n",
       "      <th>name</th>\n",
       "    </tr>\n",
       "  </thead>\n",
       "  <tbody>\n",
       "    <tr>\n",
       "      <th>61</th>\n",
       "      <td>World Championships</td>\n",
       "      <td>2013.0</td>\n",
       "      <td>CZE</td>\n",
       "      <td>Anna Pospisilova</td>\n",
       "    </tr>\n",
       "    <tr>\n",
       "      <th>133</th>\n",
       "      <td>World Championships</td>\n",
       "      <td>2013.0</td>\n",
       "      <td>NIG</td>\n",
       "      <td>Mercy Promise</td>\n",
       "    </tr>\n",
       "  </tbody>\n",
       "</table>\n",
       "</div>"
      ]
     },
     "metadata": {},
     "execution_count": 52
    }
   ],
   "metadata": {}
  }
 ],
 "metadata": {
  "orig_nbformat": 4,
  "language_info": {
   "name": "python",
   "version": "3.9.6",
   "mimetype": "text/x-python",
   "codemirror_mode": {
    "name": "ipython",
    "version": 3
   },
   "pygments_lexer": "ipython3",
   "nbconvert_exporter": "python",
   "file_extension": ".py"
  },
  "kernelspec": {
   "name": "python3",
   "display_name": "Python 3.9.6 64-bit"
  },
  "interpreter": {
   "hash": "067cb8d266241ed2d5a7605d38a6c52756d68e549b16125f60af993db4e342af"
  }
 },
 "nbformat": 4,
 "nbformat_minor": 2
}