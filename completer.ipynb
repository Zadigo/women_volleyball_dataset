{
 "cells": [
  {
   "cell_type": "code",
   "execution_count": 131,
   "source": [
    "import os\r\n",
    "import pandas"
   ],
   "outputs": [],
   "metadata": {}
  },
  {
   "cell_type": "code",
   "execution_count": 132,
   "source": [
    "FILENAME = 'json/club2018/108ff560de.json'\r\n",
    "\r\n",
    "TEMP_NAME = os.path.basename(FILENAME)\r\n",
    "\r\n",
    "ROSTER_PAGE = 'http://clubworldchampionships.2018.women.fivb.com/en/teams/alt%20altay%20volleyball%20club%20kaz/team_roster'"
   ],
   "outputs": [],
   "metadata": {}
  },
  {
   "cell_type": "code",
   "execution_count": 133,
   "source": [
    "data = pandas.read_json(FILENAME)\r\n",
    "df = pandas.DataFrame(data)\r\n"
   ],
   "outputs": [],
   "metadata": {}
  },
  {
   "cell_type": "code",
   "execution_count": 134,
   "source": [
    "import requests\r\n",
    "from bs4 import BeautifulSoup\r\n",
    "\r\n",
    "response = requests.get(ROSTER_PAGE)\r\n",
    "print(response.status_code)\r\n",
    "soup = BeautifulSoup(response.text, 'html.parser')"
   ],
   "outputs": [
    {
     "output_type": "stream",
     "name": "stdout",
     "text": [
      "200\n"
     ]
    }
   ],
   "metadata": {}
  },
  {
   "cell_type": "code",
   "execution_count": 135,
   "source": [
    "from pandas import Series\r\n",
    "\r\n",
    "links = soup.find_all('a')\r\n",
    "\r\n",
    "def links_with_player(link):\r\n",
    "    try:\r\n",
    "        href = link['href']\r\n",
    "    except:\r\n",
    "        return False\r\n",
    "    else:\r\n",
    "        if '/players/' in href:\r\n",
    "            return True\r\n",
    "        else:\r\n",
    "            return False\r\n",
    "\r\n",
    "filtered_links = filter(links_with_player, links)\r\n",
    "hrefs = list(map(lambda x: (x.text, x['href']), filtered_links))"
   ],
   "outputs": [],
   "metadata": {}
  },
  {
   "cell_type": "code",
   "execution_count": 136,
   "source": [
    "from w3lib.url import canonicalize_url, urljoin\r\n",
    "\r\n",
    "container = []\r\n",
    "\r\n",
    "for name in df['name']:\r\n",
    "    for href in hrefs:\r\n",
    "        if name in href:\r\n",
    "            name, path = href\r\n",
    "            url = canonicalize_url(urljoin('http://clubworldchampionships.2018.women.fivb.com/', path))\r\n",
    "            container.append(url)"
   ],
   "outputs": [],
   "metadata": {}
  },
  {
   "cell_type": "code",
   "execution_count": 137,
   "source": [
    "df['player_page'] = Series(container, dtype=str)\r\n",
    "df.head()"
   ],
   "outputs": [
    {
     "output_type": "execute_result",
     "data": {
      "text/plain": [
       "                 name date_of_birth  height  weight  spike  block  \\\n",
       "0   Natalya Mammadova    1984-01-02     196      78    319    302   \n",
       "1   Sana Anarkulova C    1989-01-21     188      77    300    280   \n",
       "2  Zarina Sitkazinova    1993-01-20     182      70    295    280   \n",
       "3      Aliya Sadykova    1988-01-01     174      63    293    281   \n",
       "4     Kristina Belova    1998-01-29     182      72    244    285   \n",
       "\n",
       "                                         player_page  curr_age  \\\n",
       "0  http://clubworldchampionships.2018.women.fivb....        37   \n",
       "1  http://clubworldchampionships.2018.women.fivb....        32   \n",
       "2  http://clubworldchampionships.2018.women.fivb....        28   \n",
       "3  http://clubworldchampionships.2018.women.fivb....        33   \n",
       "4  http://clubworldchampionships.2018.women.fivb....        23   \n",
       "\n",
       "          competition_name  competition_year  team  player_image  nationality  \\\n",
       "0  Club Word Championships              2018   NaN           NaN          NaN   \n",
       "1  Club Word Championships              2018   NaN           NaN          NaN   \n",
       "2  Club Word Championships              2018   NaN           NaN          NaN   \n",
       "3  Club Word Championships              2018   NaN           NaN          NaN   \n",
       "4  Club Word Championships              2018   NaN           NaN          NaN   \n",
       "\n",
       "   position  short_position  \n",
       "0       NaN             NaN  \n",
       "1       NaN             NaN  \n",
       "2       NaN             NaN  \n",
       "3       NaN             NaN  \n",
       "4       NaN             NaN  "
      ],
      "text/html": [
       "<div>\n",
       "<style scoped>\n",
       "    .dataframe tbody tr th:only-of-type {\n",
       "        vertical-align: middle;\n",
       "    }\n",
       "\n",
       "    .dataframe tbody tr th {\n",
       "        vertical-align: top;\n",
       "    }\n",
       "\n",
       "    .dataframe thead th {\n",
       "        text-align: right;\n",
       "    }\n",
       "</style>\n",
       "<table border=\"1\" class=\"dataframe\">\n",
       "  <thead>\n",
       "    <tr style=\"text-align: right;\">\n",
       "      <th></th>\n",
       "      <th>name</th>\n",
       "      <th>date_of_birth</th>\n",
       "      <th>height</th>\n",
       "      <th>weight</th>\n",
       "      <th>spike</th>\n",
       "      <th>block</th>\n",
       "      <th>player_page</th>\n",
       "      <th>curr_age</th>\n",
       "      <th>competition_name</th>\n",
       "      <th>competition_year</th>\n",
       "      <th>team</th>\n",
       "      <th>player_image</th>\n",
       "      <th>nationality</th>\n",
       "      <th>position</th>\n",
       "      <th>short_position</th>\n",
       "    </tr>\n",
       "  </thead>\n",
       "  <tbody>\n",
       "    <tr>\n",
       "      <th>0</th>\n",
       "      <td>Natalya Mammadova</td>\n",
       "      <td>1984-01-02</td>\n",
       "      <td>196</td>\n",
       "      <td>78</td>\n",
       "      <td>319</td>\n",
       "      <td>302</td>\n",
       "      <td>http://clubworldchampionships.2018.women.fivb....</td>\n",
       "      <td>37</td>\n",
       "      <td>Club Word Championships</td>\n",
       "      <td>2018</td>\n",
       "      <td>NaN</td>\n",
       "      <td>NaN</td>\n",
       "      <td>NaN</td>\n",
       "      <td>NaN</td>\n",
       "      <td>NaN</td>\n",
       "    </tr>\n",
       "    <tr>\n",
       "      <th>1</th>\n",
       "      <td>Sana Anarkulova C</td>\n",
       "      <td>1989-01-21</td>\n",
       "      <td>188</td>\n",
       "      <td>77</td>\n",
       "      <td>300</td>\n",
       "      <td>280</td>\n",
       "      <td>http://clubworldchampionships.2018.women.fivb....</td>\n",
       "      <td>32</td>\n",
       "      <td>Club Word Championships</td>\n",
       "      <td>2018</td>\n",
       "      <td>NaN</td>\n",
       "      <td>NaN</td>\n",
       "      <td>NaN</td>\n",
       "      <td>NaN</td>\n",
       "      <td>NaN</td>\n",
       "    </tr>\n",
       "    <tr>\n",
       "      <th>2</th>\n",
       "      <td>Zarina Sitkazinova</td>\n",
       "      <td>1993-01-20</td>\n",
       "      <td>182</td>\n",
       "      <td>70</td>\n",
       "      <td>295</td>\n",
       "      <td>280</td>\n",
       "      <td>http://clubworldchampionships.2018.women.fivb....</td>\n",
       "      <td>28</td>\n",
       "      <td>Club Word Championships</td>\n",
       "      <td>2018</td>\n",
       "      <td>NaN</td>\n",
       "      <td>NaN</td>\n",
       "      <td>NaN</td>\n",
       "      <td>NaN</td>\n",
       "      <td>NaN</td>\n",
       "    </tr>\n",
       "    <tr>\n",
       "      <th>3</th>\n",
       "      <td>Aliya Sadykova</td>\n",
       "      <td>1988-01-01</td>\n",
       "      <td>174</td>\n",
       "      <td>63</td>\n",
       "      <td>293</td>\n",
       "      <td>281</td>\n",
       "      <td>http://clubworldchampionships.2018.women.fivb....</td>\n",
       "      <td>33</td>\n",
       "      <td>Club Word Championships</td>\n",
       "      <td>2018</td>\n",
       "      <td>NaN</td>\n",
       "      <td>NaN</td>\n",
       "      <td>NaN</td>\n",
       "      <td>NaN</td>\n",
       "      <td>NaN</td>\n",
       "    </tr>\n",
       "    <tr>\n",
       "      <th>4</th>\n",
       "      <td>Kristina Belova</td>\n",
       "      <td>1998-01-29</td>\n",
       "      <td>182</td>\n",
       "      <td>72</td>\n",
       "      <td>244</td>\n",
       "      <td>285</td>\n",
       "      <td>http://clubworldchampionships.2018.women.fivb....</td>\n",
       "      <td>23</td>\n",
       "      <td>Club Word Championships</td>\n",
       "      <td>2018</td>\n",
       "      <td>NaN</td>\n",
       "      <td>NaN</td>\n",
       "      <td>NaN</td>\n",
       "      <td>NaN</td>\n",
       "      <td>NaN</td>\n",
       "    </tr>\n",
       "  </tbody>\n",
       "</table>\n",
       "</div>"
      ]
     },
     "metadata": {},
     "execution_count": 137
    }
   ],
   "metadata": {}
  },
  {
   "cell_type": "code",
   "execution_count": 138,
   "source": [
    "df.to_json(FILENAME, orient='records')"
   ],
   "outputs": [],
   "metadata": {}
  },
  {
   "cell_type": "code",
   "execution_count": 139,
   "source": [
    "from w3lib.url import add_or_replace_parameter\r\n",
    "from zineb.utils._html import deep_clean\r\n",
    "\r\n",
    "positions = []\r\n",
    "images = []\r\n",
    "for url in df['player_page']:\r\n",
    "    try:\r\n",
    "        player_page = requests.get(url)\r\n",
    "    except:\r\n",
    "        images.append(None)\r\n",
    "        positions.append(None)\r\n",
    "    else:\r\n",
    "        soup = BeautifulSoup(player_page.text, 'html.parser')\r\n",
    "        if soup is not None:\r\n",
    "            image_div = soup.find('div', attrs={'class': 'person'})\r\n",
    "            src = add_or_replace_parameter(canonicalize_url(image_div.find('img')['src']), 'height', 2000)\r\n",
    "            images.append(src)\r\n",
    "\r\n",
    "            line_list = soup.find('ul', attrs={'class': 'line-list'})\r\n",
    "            try:\r\n",
    "                position = line_list.find_all('li')[0].find_next('strong').text\r\n",
    "            except:\r\n",
    "                position = None\r\n",
    "            positions.append(deep_clean(position))\r\n",
    "        else:\r\n",
    "            images.append(None)\r\n",
    "            positions.append(None)\r\n",
    "    \r\n",
    "\r\n",
    "df['position'] = Series(positions, dtype=str)\r\n",
    "df['player_image'] = Series(images, dtype=str)\r\n"
   ],
   "outputs": [],
   "metadata": {}
  },
  {
   "cell_type": "code",
   "execution_count": 141,
   "source": [
    "df.to_json('108ff560de.json', orient='records')"
   ],
   "outputs": [
    {
     "output_type": "execute_result",
     "data": {
      "text/plain": [
       "['108ff560de', 'json']"
      ]
     },
     "metadata": {},
     "execution_count": 141
    }
   ],
   "metadata": {}
  }
 ],
 "metadata": {
  "orig_nbformat": 4,
  "language_info": {
   "name": "python",
   "version": "3.9.6",
   "mimetype": "text/x-python",
   "codemirror_mode": {
    "name": "ipython",
    "version": 3
   },
   "pygments_lexer": "ipython3",
   "nbconvert_exporter": "python",
   "file_extension": ".py"
  },
  "kernelspec": {
   "name": "python3",
   "display_name": "Python 3.9.6 64-bit"
  },
  "interpreter": {
   "hash": "067cb8d266241ed2d5a7605d38a6c52756d68e549b16125f60af993db4e342af"
  }
 },
 "nbformat": 4,
 "nbformat_minor": 2
}