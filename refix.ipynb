{
 "cells": [
  {
   "cell_type": "code",
   "execution_count": 1,
   "source": [
    "from women_volleyball_dataset import collect_all_files\r\n",
    "import json\r\n",
    "import os"
   ],
   "outputs": [],
   "metadata": {}
  },
  {
   "cell_type": "code",
   "execution_count": 3,
   "source": [
    "PLAYER = ''\r\n",
    "\r\n",
    "POSITION = None\r\n",
    "SHORT_POSITION = None\r\n",
    "\r\n",
    "for f in collect_all_files():\r\n",
    "    p = open(f, mode='r', encoding='utf-8')\r\n",
    "    data = json.load(p)\r\n",
    "    for item in data:\r\n",
    "        if PLAYER in item['name']:\r\n",
    "            item['position'] = POSITION\r\n",
    "            item['short_position'] = SHORT_POSITION\r\n",
    "    p.close()"
   ],
   "outputs": [
    {
     "output_type": "execute_result",
     "data": {
      "text/plain": [
       "['json\\\\olympics_2008.json',\n",
       " 'json\\\\olympics_2012.json',\n",
       " 'json\\\\olympics_2016.json',\n",
       " 'json\\\\world_champ_u20_2013.json',\n",
       " 'json\\\\world_champ_u20_2019.json',\n",
       " 'json\\\\world_cup_2019.json',\n",
       " 'json\\\\world_grand_prix_2004.json',\n",
       " 'json\\\\world_grand_prix_2005.json',\n",
       " 'json\\\\world_grand_prix_2006.json',\n",
       " 'json\\\\world_grand_prix_2009.json',\n",
       " 'json\\\\world_grand_prix_2011.json',\n",
       " 'json\\\\world_grand_prix_2012.json',\n",
       " 'json\\\\world_grand_prix_2013.json',\n",
       " 'json\\\\world_grand_prix_2014.json',\n",
       " 'json\\\\world_grand_prix_2017.json',\n",
       " 'json\\\\club2018\\\\108ff560de.json',\n",
       " 'json\\\\club2018\\\\25b55430b8.json',\n",
       " 'json\\\\club2018\\\\795be38763.json',\n",
       " 'json\\\\club2018\\\\81efc9c2f7.json',\n",
       " 'json\\\\club2018\\\\9ea38bc82a.json',\n",
       " 'json\\\\club2018\\\\ee54f3ae4d.json',\n",
       " 'json\\\\club2018\\\\fa8c459182.json',\n",
       " 'json\\\\club2018\\\\faccd7a732.json',\n",
       " 'json\\\\club2019\\\\3733804773.json',\n",
       " 'json\\\\club2019\\\\470ec97741.json',\n",
       " 'json\\\\club2019\\\\4a7a382510.json',\n",
       " 'json\\\\club2019\\\\57e4af4db1.json',\n",
       " 'json\\\\club2019\\\\61e59eb7ee.json',\n",
       " 'json\\\\club2019\\\\95708937fc.json',\n",
       " 'json\\\\club2019\\\\ca8b7bb132.json',\n",
       " 'json\\\\club2019\\\\db6bc91693.json',\n",
       " 'json\\\\national\\\\germany.json',\n",
       " 'json\\\\national\\\\netherlands.json',\n",
       " 'json\\\\national\\\\poland.json',\n",
       " 'json\\\\national\\\\russia.json',\n",
       " 'json\\\\national\\\\serbia.json']"
      ]
     },
     "metadata": {},
     "execution_count": 3
    }
   ],
   "metadata": {}
  }
 ],
 "metadata": {
  "orig_nbformat": 4,
  "language_info": {
   "name": "python",
   "version": "3.9.6",
   "mimetype": "text/x-python",
   "codemirror_mode": {
    "name": "ipython",
    "version": 3
   },
   "pygments_lexer": "ipython3",
   "nbconvert_exporter": "python",
   "file_extension": ".py"
  },
  "kernelspec": {
   "name": "python3",
   "display_name": "Python 3.9.6 64-bit"
  },
  "interpreter": {
   "hash": "067cb8d266241ed2d5a7605d38a6c52756d68e549b16125f60af993db4e342af"
  }
 },
 "nbformat": 4,
 "nbformat_minor": 2
}