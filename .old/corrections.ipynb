{
 "metadata": {
  "language_info": {
   "codemirror_mode": {
    "name": "ipython",
    "version": 3
   },
   "file_extension": ".py",
   "mimetype": "text/x-python",
   "name": "python",
   "nbconvert_exporter": "python",
   "pygments_lexer": "ipython3",
   "version": 3
  },
  "orig_nbformat": 2,
  "kernelspec": {
   "name": "python_defaultSpec_1595451247774",
   "display_name": "Python 3.8.2 64-bit"
  }
 },
 "nbformat": 4,
 "nbformat_minor": 2,
 "cells": [
  {
   "cell_type": "code",
   "execution_count": 1,
   "metadata": {},
   "outputs": [],
   "source": [
    "from volleyball.conf import csv_explorer\n",
    "import pandas"
   ]
  },
  {
   "cell_type": "code",
   "execution_count": 2,
   "metadata": {},
   "outputs": [],
   "source": [
    "csv_file = csv_explorer('world_grand_prix-final.csv', extra_paths=['consolidated'])\n",
    "data = pandas.read_csv(csv_file)"
   ]
  },
  {
   "cell_type": "code",
   "execution_count": 3,
   "metadata": {},
   "outputs": [],
   "source": [
    "df = pandas.DataFrame(data=data, columns=['name','date_of_birth','height','weight','spike','block'])"
   ]
  },
  {
   "cell_type": "code",
   "execution_count": 4,
   "metadata": {},
   "outputs": [
    {
     "output_type": "execute_result",
     "data": {
      "text/plain": "                                     name date_of_birth  height  weight  \\\n208                         Paula Pequeno    22/01/1982     184      74   \n209                     Adenizia Da Silva    18/12/1986     185      63   \n210               Thaisa Daher de Menezes    15/05/1987     196      79   \n211  Jaqueline Pereira De Carvalho Endres    31/12/1983     186      70   \n213                       Welissa Gonzaga     9/09/1982     179      76   \n214                      Fabiana Oliveira     7/03/1980     169      59   \n215                     Ana Tiemi Takagui    26/10/1987     187      74   \n216                          Camila Brait    28/10/1988     170      58   \n\n     spike  block  \n208    302    285  \n209    312    290  \n210    316    301  \n211    302    286  \n213    300    287  \n214    276    266  \n215    295    284  \n216    271    256  ",
      "text/html": "<div>\n<style scoped>\n    .dataframe tbody tr th:only-of-type {\n        vertical-align: middle;\n    }\n\n    .dataframe tbody tr th {\n        vertical-align: top;\n    }\n\n    .dataframe thead th {\n        text-align: right;\n    }\n</style>\n<table border=\"1\" class=\"dataframe\">\n  <thead>\n    <tr style=\"text-align: right;\">\n      <th></th>\n      <th>name</th>\n      <th>date_of_birth</th>\n      <th>height</th>\n      <th>weight</th>\n      <th>spike</th>\n      <th>block</th>\n    </tr>\n  </thead>\n  <tbody>\n    <tr>\n      <th>208</th>\n      <td>Paula Pequeno</td>\n      <td>22/01/1982</td>\n      <td>184</td>\n      <td>74</td>\n      <td>302</td>\n      <td>285</td>\n    </tr>\n    <tr>\n      <th>209</th>\n      <td>Adenizia Da Silva</td>\n      <td>18/12/1986</td>\n      <td>185</td>\n      <td>63</td>\n      <td>312</td>\n      <td>290</td>\n    </tr>\n    <tr>\n      <th>210</th>\n      <td>Thaisa Daher de Menezes</td>\n      <td>15/05/1987</td>\n      <td>196</td>\n      <td>79</td>\n      <td>316</td>\n      <td>301</td>\n    </tr>\n    <tr>\n      <th>211</th>\n      <td>Jaqueline Pereira De Carvalho Endres</td>\n      <td>31/12/1983</td>\n      <td>186</td>\n      <td>70</td>\n      <td>302</td>\n      <td>286</td>\n    </tr>\n    <tr>\n      <th>213</th>\n      <td>Welissa Gonzaga</td>\n      <td>9/09/1982</td>\n      <td>179</td>\n      <td>76</td>\n      <td>300</td>\n      <td>287</td>\n    </tr>\n    <tr>\n      <th>214</th>\n      <td>Fabiana Oliveira</td>\n      <td>7/03/1980</td>\n      <td>169</td>\n      <td>59</td>\n      <td>276</td>\n      <td>266</td>\n    </tr>\n    <tr>\n      <th>215</th>\n      <td>Ana Tiemi Takagui</td>\n      <td>26/10/1987</td>\n      <td>187</td>\n      <td>74</td>\n      <td>295</td>\n      <td>284</td>\n    </tr>\n    <tr>\n      <th>216</th>\n      <td>Camila Brait</td>\n      <td>28/10/1988</td>\n      <td>170</td>\n      <td>58</td>\n      <td>271</td>\n      <td>256</td>\n    </tr>\n  </tbody>\n</table>\n</div>"
     },
     "metadata": {},
     "execution_count": 4
    }
   ],
   "source": [
    "df[df.duplicated() == True]"
   ]
  },
  {
   "cell_type": "code",
   "execution_count": 5,
   "metadata": {},
   "outputs": [],
   "source": [
    "clean_df = df.drop_duplicates()"
   ]
  },
  {
   "cell_type": "code",
   "execution_count": 6,
   "metadata": {},
   "outputs": [
    {
     "output_type": "execute_result",
     "data": {
      "text/plain": "name             859\ndate_of_birth    859\nheight           859\nweight           859\nspike            859\nblock            859\ndtype: int64"
     },
     "metadata": {},
     "execution_count": 6
    }
   ],
   "source": [
    "clean_df.count()"
   ]
  },
  {
   "cell_type": "code",
   "execution_count": 7,
   "metadata": {},
   "outputs": [],
   "source": [
    "# clean_df[clean_df.isna() == True]"
   ]
  },
  {
   "cell_type": "code",
   "execution_count": 8,
   "metadata": {},
   "outputs": [
    {
     "output_type": "execute_result",
     "data": {
      "text/plain": "0      314\n1      295\n2      290\n3      302\n4      315\n      ... \n862    300\n863    310\n864    306\n865    270\n866    302\nName: spike, Length: 859, dtype: object"
     },
     "metadata": {},
     "execution_count": 8
    }
   ],
   "source": [
    "average_block = clean_df[clean_df['block']!=0].mean()\n",
    "def replace_zero_blocks(value):\n",
    "    if value == 0:\n",
    "        return average_block\n",
    "    return value\n",
    "\n",
    "clean_df['block'].apply(replace_zero_blocks)\n",
    "\n",
    "average_spike = clean_df[clean_df['spike']!=0].mean()\n",
    "def replace_zero_spikes(value):\n",
    "    if value == 0:\n",
    "        return average_spike\n",
    "    return value\n",
    "\n",
    "clean_df['spike'].apply(replace_zero_spikes)\n"
   ]
  },
  {
   "cell_type": "code",
   "execution_count": 9,
   "metadata": {},
   "outputs": [
    {
     "output_type": "execute_result",
     "data": {
      "text/plain": "                  name date_of_birth  height  weight  spike  block\n114  Monique Wismeijer    21/10/1978     176      77      0      0\n130     Sharon Zuidema    13/08/1990     185      72      0      0\n131    Leonarda Sgroot    26/02/1986     180      64      0      0\n565        Dorota Wilk    28/04/1988     178      66    290      0",
      "text/html": "<div>\n<style scoped>\n    .dataframe tbody tr th:only-of-type {\n        vertical-align: middle;\n    }\n\n    .dataframe tbody tr th {\n        vertical-align: top;\n    }\n\n    .dataframe thead th {\n        text-align: right;\n    }\n</style>\n<table border=\"1\" class=\"dataframe\">\n  <thead>\n    <tr style=\"text-align: right;\">\n      <th></th>\n      <th>name</th>\n      <th>date_of_birth</th>\n      <th>height</th>\n      <th>weight</th>\n      <th>spike</th>\n      <th>block</th>\n    </tr>\n  </thead>\n  <tbody>\n    <tr>\n      <th>114</th>\n      <td>Monique Wismeijer</td>\n      <td>21/10/1978</td>\n      <td>176</td>\n      <td>77</td>\n      <td>0</td>\n      <td>0</td>\n    </tr>\n    <tr>\n      <th>130</th>\n      <td>Sharon Zuidema</td>\n      <td>13/08/1990</td>\n      <td>185</td>\n      <td>72</td>\n      <td>0</td>\n      <td>0</td>\n    </tr>\n    <tr>\n      <th>131</th>\n      <td>Leonarda Sgroot</td>\n      <td>26/02/1986</td>\n      <td>180</td>\n      <td>64</td>\n      <td>0</td>\n      <td>0</td>\n    </tr>\n    <tr>\n      <th>565</th>\n      <td>Dorota Wilk</td>\n      <td>28/04/1988</td>\n      <td>178</td>\n      <td>66</td>\n      <td>290</td>\n      <td>0</td>\n    </tr>\n  </tbody>\n</table>\n</div>"
     },
     "metadata": {},
     "execution_count": 9
    }
   ],
   "source": [
    "clean_df[clean_df['block'] == 0]"
   ]
  },
  {
   "cell_type": "code",
   "execution_count": 10,
   "metadata": {},
   "outputs": [],
   "source": [
    "clean_df.to_csv('world_grand_prix-final.csv')"
   ]
  },
  {
   "cell_type": "code",
   "execution_count": null,
   "metadata": {},
   "outputs": [],
   "source": []
  }
 ]
}