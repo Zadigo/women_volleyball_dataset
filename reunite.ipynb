{
 "cells": [
  {
   "cell_type": "code",
   "execution_count": 1,
   "source": [
    "# Collect all the JSON files within the project\r\n",
    "# and create on unique CSV or JSON file\r\n",
    "\r\n",
    "import os\r\n",
    "from functools import lru_cache"
   ],
   "outputs": [],
   "metadata": {}
  },
  {
   "cell_type": "code",
   "execution_count": 2,
   "source": [
    "items = os.walk('json')"
   ],
   "outputs": [],
   "metadata": {}
  },
  {
   "cell_type": "code",
   "execution_count": 3,
   "source": [
    "@lru_cache(maxsize=1)\r\n",
    "def collect_all_files():\r\n",
    "    for item in items:\r\n",
    "        root, _, files = item\r\n",
    "        for file in files:\r\n",
    "            if file.endswith('.json'):\r\n",
    "                yield os.path.join(root, file)"
   ],
   "outputs": [],
   "metadata": {}
  },
  {
   "cell_type": "code",
   "execution_count": 4,
   "source": [
    "import pandas\r\n",
    "\r\n",
    "mapped_dtypes = {\r\n",
    "    'competition_year': int,\r\n",
    "    'player_page': str,\r\n",
    "    'team': str,\r\n",
    "    'player_image': str,\r\n",
    "    'nationality': str,\r\n",
    "    'position': str,\r\n",
    "    'short_position': str,\r\n",
    "    'captain': bool,\r\n",
    "    'firstname': str,\r\n",
    "    'lastname': str,\r\n",
    "    'slug': str\r\n",
    "}\r\n",
    "\r\n",
    "container = map(lambda x: pandas.read_json(x, dtype=mapped_dtypes), collect_all_files())\r\n"
   ],
   "outputs": [],
   "metadata": {}
  },
  {
   "cell_type": "code",
   "execution_count": 5,
   "source": [
    "dfs = list(map(lambda d: pandas.DataFrame(d), container))"
   ],
   "outputs": [],
   "metadata": {}
  },
  {
   "cell_type": "code",
   "execution_count": 6,
   "source": [
    "first_df = dfs.pop(0)"
   ],
   "outputs": [],
   "metadata": {}
  },
  {
   "cell_type": "code",
   "execution_count": 7,
   "source": [
    "for df in dfs:\r\n",
    "    first_df = first_df.append(df)"
   ],
   "outputs": [],
   "metadata": {}
  },
  {
   "cell_type": "code",
   "execution_count": 8,
   "source": [
    "# first_df.to_json('players.json', orient='records')\r\n",
    "first_df.to_csv('players.csv', index=False)"
   ],
   "outputs": [],
   "metadata": {}
  }
 ],
 "metadata": {
  "orig_nbformat": 4,
  "language_info": {
   "name": "python",
   "version": "3.9.6",
   "mimetype": "text/x-python",
   "codemirror_mode": {
    "name": "ipython",
    "version": 3
   },
   "pygments_lexer": "ipython3",
   "nbconvert_exporter": "python",
   "file_extension": ".py"
  },
  "kernelspec": {
   "name": "python3",
   "display_name": "Python 3.9.6 64-bit"
  },
  "interpreter": {
   "hash": "067cb8d266241ed2d5a7605d38a6c52756d68e549b16125f60af993db4e342af"
  }
 },
 "nbformat": 4,
 "nbformat_minor": 2
}