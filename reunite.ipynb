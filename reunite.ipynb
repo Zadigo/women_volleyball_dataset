{
 "cells": [
  {
   "cell_type": "markdown",
   "metadata": {},
   "source": [
    "# Collect Files\n",
    "Collact all the JSON files within the project and create on unique CSV or JSON file"
   ]
  },
  {
   "cell_type": "code",
   "execution_count": 47,
   "metadata": {},
   "outputs": [],
   "source": [
    "import os\n",
    "from functools import lru_cache"
   ]
  },
  {
   "cell_type": "code",
   "execution_count": 48,
   "metadata": {},
   "outputs": [],
   "source": [
    "items = os.walk('json')"
   ]
  },
  {
   "cell_type": "code",
   "execution_count": 49,
   "metadata": {},
   "outputs": [],
   "source": [
    "def collect_all_files():\n",
    "    for item in items:\n",
    "        root, _, files = item\n",
    "        for file in files:\n",
    "            if file.endswith('.json'):\n",
    "                yield os.path.join(root, file)"
   ]
  },
  {
   "cell_type": "code",
   "execution_count": 50,
   "metadata": {},
   "outputs": [
    {
     "name": "stdout",
     "output_type": "stream",
     "text": [
      "Collected 36 files\n"
     ]
    }
   ],
   "source": [
    "files = list(collect_all_files())\n",
    "print('Collected', len(files), 'files')"
   ]
  },
  {
   "cell_type": "code",
   "execution_count": 51,
   "metadata": {},
   "outputs": [],
   "source": [
    "import pandas\n",
    "\n",
    "mapped_dtypes = {\n",
    "    'competition_year': int,\n",
    "    'player_page': str,\n",
    "    'team': str,\n",
    "    'player_image': str,\n",
    "    'nationality': str,\n",
    "    'position': str,\n",
    "    'short_position': str,\n",
    "    'captain': bool,\n",
    "    'firstname': str,\n",
    "    'lastname': str,\n",
    "    'slug': str\n",
    "}\n",
    "\n",
    "container = map(lambda x: pandas.read_json(x, dtype=mapped_dtypes), files)\n"
   ]
  },
  {
   "cell_type": "code",
   "execution_count": 52,
   "metadata": {},
   "outputs": [
    {
     "name": "stdout",
     "output_type": "stream",
     "text": [
      "Created 36 dataframes\n"
     ]
    }
   ],
   "source": [
    "dfs = list(map(lambda d: pandas.DataFrame(d), container))\n",
    "print('Created', len(dfs), 'dataframes')"
   ]
  },
  {
   "cell_type": "code",
   "execution_count": 53,
   "metadata": {},
   "outputs": [],
   "source": [
    "first_dataframe = dfs.pop(0)\n",
    "\n",
    "for df in dfs:\n",
    "    first_dataframe = first_dataframe.append(df)"
   ]
  },
  {
   "cell_type": "code",
   "execution_count": 54,
   "metadata": {},
   "outputs": [
    {
     "data": {
      "text/html": [
       "<div>\n",
       "<style scoped>\n",
       "    .dataframe tbody tr th:only-of-type {\n",
       "        vertical-align: middle;\n",
       "    }\n",
       "\n",
       "    .dataframe tbody tr th {\n",
       "        vertical-align: top;\n",
       "    }\n",
       "\n",
       "    .dataframe thead th {\n",
       "        text-align: right;\n",
       "    }\n",
       "</style>\n",
       "<table border=\"1\" class=\"dataframe\">\n",
       "  <thead>\n",
       "    <tr style=\"text-align: right;\">\n",
       "      <th></th>\n",
       "      <th>competition_name</th>\n",
       "      <th>competition_year</th>\n",
       "      <th>team</th>\n",
       "      <th>name</th>\n",
       "      <th>date_of_birth</th>\n",
       "      <th>curr_age</th>\n",
       "      <th>height</th>\n",
       "      <th>weight</th>\n",
       "      <th>spike</th>\n",
       "      <th>block</th>\n",
       "      <th>player_page</th>\n",
       "      <th>player_image</th>\n",
       "      <th>nationality</th>\n",
       "      <th>position</th>\n",
       "      <th>short_position</th>\n",
       "      <th>firstname</th>\n",
       "      <th>lastname</th>\n",
       "      <th>slug</th>\n",
       "      <th>captain</th>\n",
       "    </tr>\n",
       "  </thead>\n",
       "  <tbody>\n",
       "    <tr>\n",
       "      <th>0</th>\n",
       "      <td>Olympics</td>\n",
       "      <td>2008.0</td>\n",
       "      <td>None</td>\n",
       "      <td>Melinda Raissa Hennaoui</td>\n",
       "      <td>1990-01-18</td>\n",
       "      <td>31</td>\n",
       "      <td>178</td>\n",
       "      <td>68</td>\n",
       "      <td>295</td>\n",
       "      <td>284</td>\n",
       "      <td>http://www.fivb.org/EN/Volleyball/Competitions...</td>\n",
       "      <td>None</td>\n",
       "      <td>ALG</td>\n",
       "      <td>Outside hitter</td>\n",
       "      <td>OH</td>\n",
       "      <td>Melinda</td>\n",
       "      <td>Raissa Hennaoui</td>\n",
       "      <td>melinda-raissa-hennaoui</td>\n",
       "      <td>False</td>\n",
       "    </tr>\n",
       "    <tr>\n",
       "      <th>1</th>\n",
       "      <td>Olympics</td>\n",
       "      <td>2008.0</td>\n",
       "      <td>None</td>\n",
       "      <td>Sehryne Hennaoui</td>\n",
       "      <td>1988-01-10</td>\n",
       "      <td>33</td>\n",
       "      <td>172</td>\n",
       "      <td>69</td>\n",
       "      <td>285</td>\n",
       "      <td>273</td>\n",
       "      <td>http://www.fivb.org/EN/Volleyball/Competitions...</td>\n",
       "      <td>None</td>\n",
       "      <td>ALG</td>\n",
       "      <td>Setter</td>\n",
       "      <td>S</td>\n",
       "      <td>Sehryne</td>\n",
       "      <td>Hennaoui</td>\n",
       "      <td>sehryne-hennaoui</td>\n",
       "      <td>False</td>\n",
       "    </tr>\n",
       "    <tr>\n",
       "      <th>2</th>\n",
       "      <td>Olympics</td>\n",
       "      <td>2008.0</td>\n",
       "      <td>None</td>\n",
       "      <td>Benhamouda Ep Akouche Nassima Saleha</td>\n",
       "      <td>1973-01-20</td>\n",
       "      <td>48</td>\n",
       "      <td>180</td>\n",
       "      <td>67</td>\n",
       "      <td>299</td>\n",
       "      <td>287</td>\n",
       "      <td>http://www.fivb.org/EN/Volleyball/Competitions...</td>\n",
       "      <td>None</td>\n",
       "      <td>ALG</td>\n",
       "      <td>Middle blocker</td>\n",
       "      <td>MB</td>\n",
       "      <td>Benhamouda</td>\n",
       "      <td>Ep Akouche Nassima Saleha</td>\n",
       "      <td>benhamouda-ep-akouche-nassima-saleha</td>\n",
       "      <td>False</td>\n",
       "    </tr>\n",
       "    <tr>\n",
       "      <th>3</th>\n",
       "      <td>Olympics</td>\n",
       "      <td>2008.0</td>\n",
       "      <td>None</td>\n",
       "      <td>Raouya Rouabhia</td>\n",
       "      <td>1978-01-25</td>\n",
       "      <td>43</td>\n",
       "      <td>178</td>\n",
       "      <td>67</td>\n",
       "      <td>296</td>\n",
       "      <td>286</td>\n",
       "      <td>http://www.fivb.org/EN/Volleyball/Competitions...</td>\n",
       "      <td>None</td>\n",
       "      <td>ALG</td>\n",
       "      <td>Outside hitter</td>\n",
       "      <td>OH</td>\n",
       "      <td>Raouya</td>\n",
       "      <td>Rouabhia</td>\n",
       "      <td>raouya-rouabhia</td>\n",
       "      <td>False</td>\n",
       "    </tr>\n",
       "    <tr>\n",
       "      <th>4</th>\n",
       "      <td>Olympics</td>\n",
       "      <td>2008.0</td>\n",
       "      <td>None</td>\n",
       "      <td>Narimene Madani</td>\n",
       "      <td>1984-01-12</td>\n",
       "      <td>37</td>\n",
       "      <td>180</td>\n",
       "      <td>77</td>\n",
       "      <td>300</td>\n",
       "      <td>290</td>\n",
       "      <td>http://www.fivb.org/EN/Volleyball/Competitions...</td>\n",
       "      <td>None</td>\n",
       "      <td>ALG</td>\n",
       "      <td>None</td>\n",
       "      <td>None</td>\n",
       "      <td>Narimene</td>\n",
       "      <td>Madani</td>\n",
       "      <td>narimene-madani</td>\n",
       "      <td>True</td>\n",
       "    </tr>\n",
       "  </tbody>\n",
       "</table>\n",
       "</div>"
      ],
      "text/plain": [
       "  competition_name  competition_year  team  \\\n",
       "0         Olympics            2008.0  None   \n",
       "1         Olympics            2008.0  None   \n",
       "2         Olympics            2008.0  None   \n",
       "3         Olympics            2008.0  None   \n",
       "4         Olympics            2008.0  None   \n",
       "\n",
       "                                   name date_of_birth  curr_age  height  \\\n",
       "0               Melinda Raissa Hennaoui    1990-01-18        31     178   \n",
       "1                      Sehryne Hennaoui    1988-01-10        33     172   \n",
       "2  Benhamouda Ep Akouche Nassima Saleha    1973-01-20        48     180   \n",
       "3                       Raouya Rouabhia    1978-01-25        43     178   \n",
       "4                       Narimene Madani    1984-01-12        37     180   \n",
       "\n",
       "   weight  spike  block                                        player_page  \\\n",
       "0      68    295    284  http://www.fivb.org/EN/Volleyball/Competitions...   \n",
       "1      69    285    273  http://www.fivb.org/EN/Volleyball/Competitions...   \n",
       "2      67    299    287  http://www.fivb.org/EN/Volleyball/Competitions...   \n",
       "3      67    296    286  http://www.fivb.org/EN/Volleyball/Competitions...   \n",
       "4      77    300    290  http://www.fivb.org/EN/Volleyball/Competitions...   \n",
       "\n",
       "  player_image nationality        position short_position   firstname  \\\n",
       "0         None         ALG  Outside hitter             OH     Melinda   \n",
       "1         None         ALG          Setter              S     Sehryne   \n",
       "2         None         ALG  Middle blocker             MB  Benhamouda   \n",
       "3         None         ALG  Outside hitter             OH      Raouya   \n",
       "4         None         ALG            None           None    Narimene   \n",
       "\n",
       "                    lastname                                  slug  captain  \n",
       "0            Raissa Hennaoui               melinda-raissa-hennaoui    False  \n",
       "1                   Hennaoui                      sehryne-hennaoui    False  \n",
       "2  Ep Akouche Nassima Saleha  benhamouda-ep-akouche-nassima-saleha    False  \n",
       "3                   Rouabhia                       raouya-rouabhia    False  \n",
       "4                     Madani                       narimene-madani     True  "
      ]
     },
     "execution_count": 54,
     "metadata": {},
     "output_type": "execute_result"
    }
   ],
   "source": [
    "first_dataframe.head()\n"
   ]
  },
  {
   "cell_type": "code",
   "execution_count": 55,
   "metadata": {},
   "outputs": [
    {
     "data": {
      "text/plain": [
       "competition_name    2887\n",
       "competition_year    2873\n",
       "team                2901\n",
       "name                2901\n",
       "date_of_birth       2901\n",
       "curr_age            2901\n",
       "height              2901\n",
       "weight              2901\n",
       "spike               2901\n",
       "block               2901\n",
       "player_page         2901\n",
       "player_image        2901\n",
       "nationality         2901\n",
       "position            2901\n",
       "short_position      2901\n",
       "firstname           2901\n",
       "lastname            2901\n",
       "slug                2901\n",
       "captain             2901\n",
       "dtype: int64"
      ]
     },
     "execution_count": 55,
     "metadata": {},
     "output_type": "execute_result"
    }
   ],
   "source": [
    "first_dataframe.count()"
   ]
  },
  {
   "cell_type": "code",
   "execution_count": 56,
   "metadata": {},
   "outputs": [],
   "source": [
    "first_dataframe.to_json('players.json', orient='records')"
   ]
  },
  {
   "cell_type": "code",
   "execution_count": 57,
   "metadata": {},
   "outputs": [],
   "source": [
    "first_dataframe.to_csv('players.csv', index=False)\n"
   ]
  }
 ],
 "metadata": {
  "interpreter": {
   "hash": "067cb8d266241ed2d5a7605d38a6c52756d68e549b16125f60af993db4e342af"
  },
  "kernelspec": {
   "display_name": "Python 3.9.6 64-bit",
   "name": "python3"
  },
  "language_info": {
   "codemirror_mode": {
    "name": "ipython",
    "version": 3
   },
   "file_extension": ".py",
   "mimetype": "text/x-python",
   "name": "python",
   "nbconvert_exporter": "python",
   "pygments_lexer": "ipython3",
   "version": "3.10.0"
  },
  "orig_nbformat": 4
 },
 "nbformat": 4,
 "nbformat_minor": 2
}
